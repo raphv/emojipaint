{
 "cells": [
  {
   "cell_type": "code",
   "execution_count": 5,
   "id": "69f8b6f2",
   "metadata": {},
   "outputs": [],
   "source": [
    "import re\n",
    "import requests\n",
    "from bs4 import BeautifulSoup\n",
    "unicode_emoji_list_url = \"https://unicode.org/emoji/charts/full-emoji-list.html\""
   ]
  },
  {
   "cell_type": "code",
   "execution_count": 3,
   "id": "71260aad",
   "metadata": {},
   "outputs": [],
   "source": [
    "emoji_list_request = requests.get(unicode_emoji_list_url)\n",
    "emoji_list_html = emoji_list_request.text\n",
    "emoji_soup = BeautifulSoup(emoji_list_html, 'html.parser')"
   ]
  },
  {
   "cell_type": "code",
   "execution_count": 32,
   "id": "dded69b6",
   "metadata": {},
   "outputs": [
    {
     "name": "stdout",
     "output_type": "stream",
     "text": [
      "['appl', 'goog', 'fb', 'wind', 'twtr', 'joy']\n"
     ]
    }
   ],
   "source": [
    "vendor_labels = [th.text.lower() for th in emoji_soup.find_all('th',class_=\"cchars\")[1:7]]\n",
    "print(vendor_labels)"
   ]
  },
  {
   "cell_type": "code",
   "execution_count": 40,
   "id": "d4f734db",
   "metadata": {},
   "outputs": [],
   "source": [
    "emoji_list = []\n",
    "BASE_URL = 'https://twemoji.maxcdn.com/v/latest/svg/'\n",
    "for row in emoji_soup.find_all('tr'):\n",
    "    td_code = row.find('td',class_=\"code\")\n",
    "    if td_code:\n",
    "        code_point = td_code.find('a')['name']\n",
    "        name = row.find('td',class_=\"name\").text\n",
    "        images = row.find_all('td',class_=\"andr\")\n",
    "        image_availability = {}\n",
    "        if len(images) >= len(vendor_labels):\n",
    "            for i, vendor in enumerate(vendor_labels):\n",
    "                image_availability[vendor] = not(\"miss\" in images[i]['class'])\n",
    "        if image_availability.get('twtr', False):\n",
    "            image_url = BASE_URL + code_point.replace('_','-') + '.svg'\n",
    "            emoji_list.append({\n",
    "                'code': code_point,\n",
    "                'name': name,\n",
    "                'url': image_url\n",
    "            })\n"
   ]
  },
  {
   "cell_type": "code",
   "execution_count": 42,
   "id": "b54a99df",
   "metadata": {},
   "outputs": [],
   "source": [
    "import json\n",
    "with open('emojidata.json','w') as f:\n",
    "    json.dump(emoji_list,f,indent=\"\\t\")"
   ]
  },
  {
   "cell_type": "code",
   "execution_count": 43,
   "id": "fdc07dc0",
   "metadata": {},
   "outputs": [],
   "source": [
    "with open('emojiflags.json','w') as f:\n",
    "    json.dump([e for e in emoji_list if e['name'][:5] == 'flag:'],f,indent=\"\\t\")"
   ]
  },
  {
   "cell_type": "code",
   "execution_count": null,
   "id": "7e3276ae",
   "metadata": {},
   "outputs": [],
   "source": []
  }
 ],
 "metadata": {
  "kernelspec": {
   "display_name": "Python 3 (ipykernel)",
   "language": "python",
   "name": "python3"
  },
  "language_info": {
   "codemirror_mode": {
    "name": "ipython",
    "version": 3
   },
   "file_extension": ".py",
   "mimetype": "text/x-python",
   "name": "python",
   "nbconvert_exporter": "python",
   "pygments_lexer": "ipython3",
   "version": "3.9.12"
  }
 },
 "nbformat": 4,
 "nbformat_minor": 5
}
