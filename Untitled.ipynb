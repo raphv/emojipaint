{
 "cells": [
  {
   "cell_type": "code",
   "execution_count": 12,
   "id": "69f8b6f2",
   "metadata": {},
   "outputs": [],
   "source": [
    "import re\n",
    "import requests\n",
    "from pathlib import Path\n",
    "from bs4 import BeautifulSoup\n",
    "import json"
   ]
  },
  {
   "cell_type": "code",
   "execution_count": 2,
   "id": "71260aad",
   "metadata": {},
   "outputs": [],
   "source": [
    "unicode_emoji_list_url = \"https://unicode.org/emoji/charts/full-emoji-list.html\"\n",
    "emoji_list_request = requests.get(unicode_emoji_list_url)\n",
    "emoji_list_html = emoji_list_request.text\n",
    "emoji_soup = BeautifulSoup(emoji_list_html, 'html.parser')"
   ]
  },
  {
   "cell_type": "code",
   "execution_count": 17,
   "id": "d4f734db",
   "metadata": {},
   "outputs": [],
   "source": [
    "emoji_list = []\n",
    "BASE_URL = 'https://twemoji.maxcdn.com/v/latest/svg/'\n",
    "REPO_BASE = '../twemoji/assets/svg/'\n",
    "current_category = None\n",
    "current_sub_category = None\n",
    "for row in emoji_soup.find_all('tr'):\n",
    "    category = row.find('th',class_=\"bighead\")\n",
    "    if category:\n",
    "        current_category = category.text\n",
    "    category = row.find('th',class_=\"mediumhead\")\n",
    "    if category:\n",
    "        current_sub_category = category.text\n",
    "    td_code = row.find('td',class_=\"code\")\n",
    "    if td_code:\n",
    "        code_point = td_code.find('a')['name']\n",
    "        name = row.find('td',class_=\"name\").text\n",
    "        images = row.find_all('td',class_=\"andr\")\n",
    "        image_availability = {}\n",
    "        dash_codepoint = code_point.replace('_','-')\n",
    "        svg_file = Path(REPO_BASE + dash_codepoint + '.svg')\n",
    "        if svg_file.is_file():\n",
    "            with svg_file.open() as f:\n",
    "                svg_data = f.read()\n",
    "                svg_data = svg_data.replace('<svg xmlns=\"http://www.w3.org/2000/svg\" viewBox=\"0 0 36 36\">','')\n",
    "                svg_data = svg_data.replace('</svg>','')\n",
    "                emoji_data = ({\n",
    "                    'code': code_point,\n",
    "                    'name': name,\n",
    "                    'svg_data': svg_data,\n",
    "                    'category': current_category,\n",
    "#                    'sub_category': current_sub_category,\n",
    "                })\n",
    "                emoji_list.append(emoji_data)\n"
   ]
  },
  {
   "cell_type": "code",
   "execution_count": 23,
   "id": "b54a99df",
   "metadata": {},
   "outputs": [],
   "source": [
    "no_symbols = [e for e in emoji_list if e['category'] != 'Symbols']\n",
    "with open('emojidata.json','w') as f:\n",
    "    json.dump(no_symbols,f,indent=\"\\t\")"
   ]
  },
  {
   "cell_type": "code",
   "execution_count": 22,
   "id": "fdc07dc0",
   "metadata": {},
   "outputs": [],
   "source": [
    "flags = [e for e in emoji_list if e['category'] == 'Flags']\n",
    "with open('emojiflags.json','w') as f:\n",
    "    json.dump(flags,f,indent=\"\\t\")"
   ]
  },
  {
   "cell_type": "code",
   "execution_count": null,
   "id": "7e3276ae",
   "metadata": {},
   "outputs": [],
   "source": []
  }
 ],
 "metadata": {
  "kernelspec": {
   "display_name": "Python 3 (ipykernel)",
   "language": "python",
   "name": "python3"
  },
  "language_info": {
   "codemirror_mode": {
    "name": "ipython",
    "version": 3
   },
   "file_extension": ".py",
   "mimetype": "text/x-python",
   "name": "python",
   "nbconvert_exporter": "python",
   "pygments_lexer": "ipython3",
   "version": "3.9.12"
  }
 },
 "nbformat": 4,
 "nbformat_minor": 5
}
